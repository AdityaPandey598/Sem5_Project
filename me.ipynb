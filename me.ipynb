{
 "cells": [
  {
   "cell_type": "code",
   "execution_count": 135,
   "id": "96b9f739",
   "metadata": {},
   "outputs": [],
   "source": [
    "import pandas as pd\n",
    "import numpy as np\n",
    "import networkx as nx\n",
    "import plotly.express as px\n",
    "from sklearn.preprocessing import OrdinalEncoder\n",
    "from sklearn.preprocessing import MinMaxScaler\n",
    "\n"
   ]
  },
  {
   "cell_type": "code",
   "execution_count": 136,
   "id": "779c57f0",
   "metadata": {},
   "outputs": [
    {
     "name": "stdout",
     "output_type": "stream",
     "text": [
      "       Country  No of Indian Students  Percentage  Unnamed: 3\n",
      "0  US(2015-16)                 165918   37.134985         NaN\n",
      "1    Australia                  66886   14.970109   52.105095\n",
      "2       Canada                  50000   11.190764   63.295859\n",
      "3  New Zealand                  32000    7.162089   70.457948\n",
      "4      Bahrain                  27000    6.043013   76.500961\n"
     ]
    }
   ],
   "source": [
    "\n",
    "\n",
    "def load_data():\n",
    "    fpath='/home/adityapandey/Downloads/project-sem5/Data Sets/'\n",
    "    indian_students = pd.read_csv(fpath+\"IndianStudentsAbroad.csv\")\n",
    "    cost_living = pd.read_csv(fpath+\"Cost_of_Living_Index_by_Country_2024.csv\")\n",
    "    tuition = pd.read_csv(fpath+\"International_Education_Costs.csv\")\n",
    "    reputation = pd.read_csv(fpath+\"QS World University Rankings 2025 (Top global universities).csv\",encoding='latin1')\n",
    "    return indian_students, cost_living, tuition, reputation\n",
    "\n",
    "indian_students, cost_living, tuition, reputation = load_data()\n",
    "indian_students.drop(columns=['index'], inplace=True)\n",
    "print(indian_students.head())\n",
    "\n"
   ]
  },
  {
   "cell_type": "code",
   "execution_count": 137,
   "id": "0824683c",
   "metadata": {},
   "outputs": [
    {
     "name": "stdout",
     "output_type": "stream",
     "text": [
      "               Country  No of Indian Students  Percentage  Country_Encoded\n",
      "0        United States               1.000000    1.000000         1.000000\n",
      "1            Australia               0.403123    0.403123         0.986486\n",
      "2               Canada               0.301349    0.301349         0.972973\n",
      "3          New Zealand               0.192861    0.192861         0.959459\n",
      "4              Bahrain               0.162726    0.162726         0.945946\n",
      "..                 ...                    ...         ...              ...\n",
      "70  Bosnia Herzegovina               0.000006    0.000006         0.040541\n",
      "71             Lebanon               0.000006    0.000006         0.054054\n",
      "72               Chile               0.000000    0.000000         0.013514\n",
      "73            Mongolia               0.000000    0.000000         0.027027\n",
      "74              Serbia               0.000000    0.000000         0.000000\n",
      "\n",
      "[75 rows x 4 columns]\n"
     ]
    }
   ],
   "source": [
    "indian_students.loc[indian_students['Country']=='US(2015-16)','Country']='United States'\n",
    "indian_students.loc[indian_students['Country']=='UK(2015-16)','Country']='United Kingdom'\n",
    "order = indian_students.sort_values('No of Indian Students')['Country'].unique().tolist()\n",
    "encoder = OrdinalEncoder(categories=[order])\n",
    "indian_students['Country_Encoded'] = encoder.fit_transform(indian_students[['Country']])\n",
    "\n",
    "num_cols = ['Country_Encoded','No of Indian Students','Percentage','Unnamed: 3']\n",
    "scaler = MinMaxScaler()\n",
    "indian_students[num_cols] = scaler.fit_transform(indian_students[num_cols])\n",
    "indian_students.drop(columns=['Unnamed: 3'], inplace=True)\n",
    "print(indian_students)"
   ]
  },
  {
   "cell_type": "code",
   "execution_count": 138,
   "id": "53989c56",
   "metadata": {},
   "outputs": [
    {
     "name": "stdout",
     "output_type": "stream",
     "text": [
      "          country       city                      university  \\\n",
      "0   United States  Cambridge              Harvard University   \n",
      "1  United Kingdom     London         Imperial College London   \n",
      "2          Canada    Toronto           University of Toronto   \n",
      "3       Australia  Melbourne         University of Melbourne   \n",
      "4         Germany     Munich  Technical University of Munich   \n",
      "\n",
      "                  program   level  duration_years  tuition_usd  \\\n",
      "0        Computer Science  Master             2.0        55400   \n",
      "1            Data Science  Master             1.0        41200   \n",
      "2      Business Analytics  Master             2.0        38500   \n",
      "3             Engineering  Master             2.0        42000   \n",
      "4  Mechanical Engineering  Master             2.0          500   \n",
      "\n",
      "   living_cost_index  rent_usd  visa_fee_usd  insurance_usd  exchange_rate  \n",
      "0               83.5      2200           160           1500           1.00  \n",
      "1               75.8      1800           485            800           0.79  \n",
      "2               72.5      1600           235            900           1.35  \n",
      "3               71.2      1400           450            650           1.52  \n",
      "4               70.5      1100            75            550           0.92  \n"
     ]
    }
   ],
   "source": [
    "tuition.columns = tuition.columns.str.strip().str.lower().str.replace(\" \", \"_\")\n",
    "tuition.loc[tuition['country']=='USA','country']='United States'\n",
    "tuition.loc[tuition['country']=='UK','country']='United Kingdom'\n",
    "print(tuition.head())\n",
    "tuition[\"total_cost\"] = (tuition[\"tuition_usd\"] * tuition[\"duration_years\"]) + \\\n",
    "                   (tuition[\"rent_usd\"] *tuition[\"duration_years\"]) + \\\n",
    "                tuition[\"visa_fee_usd\"] +tuition[\"insurance_usd\"]\n",
    "nums_col2=['exchange_rate','living_cost_index','tuition_usd','duration_years','rent_usd','visa_fee_usd','insurance_usd','total_cost']  \n",
    "tuition[nums_col2]=scaler.fit_transform(tuition[nums_col2]) \n",
    "\n"
   ]
  },
  {
   "cell_type": "code",
   "execution_count": 139,
   "id": "2f2fb0d1",
   "metadata": {},
   "outputs": [
    {
     "name": "stdout",
     "output_type": "stream",
     "text": [
      "   rank      country  cost_of_living_index  rent_index  \\\n",
      "0     1  Switzerland              1.000000    0.680556   \n",
      "1     2      Bahamas              0.804374    0.529321   \n",
      "2     3      Iceland              0.780073    0.567901   \n",
      "3     4    Singapore              0.703524    1.000000   \n",
      "4     5     Barbados              0.702309    0.256173   \n",
      "\n",
      "   cost_of_living_plus_rent_index  groceries_index  restaurant_price_index  \\\n",
      "0                        1.000000         1.000000                1.000000   \n",
      "1                        0.794671         0.699782                0.837292   \n",
      "2                        0.797806         0.774017                0.878860   \n",
      "3                        0.956113         0.623362                0.446556   \n",
      "4                        0.592476         0.691048                0.672209   \n",
      "\n",
      "   local_purchasing_power_index  \n",
      "0                      0.867925  \n",
      "1                      0.290233  \n",
      "2                      0.654828  \n",
      "3                      0.603774  \n",
      "4                      0.228635  \n"
     ]
    }
   ],
   "source": [
    "cost_living.columns = cost_living.columns.str.strip().str.lower().str.replace(\" \", \"_\")\n",
    "nums_col3=['cost_of_living_index','rent_index','cost_of_living_plus_rent_index','groceries_index','restaurant_price_index','local_purchasing_power_index']\n",
    "cost_living[nums_col3]=scaler.fit_transform(cost_living[nums_col3]) \n",
    "print(cost_living.head())\n"
   ]
  },
  {
   "cell_type": "code",
   "execution_count": 140,
   "id": "5d9bd878",
   "metadata": {},
   "outputs": [
    {
     "name": "stdout",
     "output_type": "stream",
     "text": [
      "  RANK_2025                              Institution_Name        Location  \\\n",
      "0         1  Massachusetts Institute of Technology (MIT)    United States   \n",
      "1         2                       Imperial College London  United Kingdom   \n",
      "2         3                          University of Oxford  United Kingdom   \n",
      "3         4                            Harvard University   United States   \n",
      "4         5                       University of Cambridge  United Kingdom   \n",
      "\n",
      "   Overall_Score  \n",
      "0       1.000000  \n",
      "1       0.981061  \n",
      "2       0.960859  \n",
      "3       0.959596  \n",
      "4       0.958333  \n",
      "['RANK_2025', 'Institution_Name', 'Location', 'Overall_Score']\n"
     ]
    }
   ],
   "source": [
    "\n",
    "reputation.columns = reputation.columns.str.strip()\n",
    "nums_col4=['RANK_2024','Region','SIZE','FOCUS','RES.','STATUS','Academic_Reputation_Score', 'Academic_Reputation_Rank', 'Employer_Reputation_Score', 'Employer_Reputation_Rank', 'Faculty_Student_Score', 'Faculty_Student_Rank', 'Citations_per_Faculty_Score', 'Citations_per_Faculty_Rank', 'International_Faculty_Score', 'International_Faculty_Rank', 'International_Students_Score', 'International_Students_Rank', 'International_Research_Network_Score', 'International_Research_Network_Rank', 'Employment_Outcomes_Score', 'Employment_Outcomes_Rank', 'Sustainability_Score', 'Sustainability_Rank']\n",
    "reputation.drop(columns=nums_col4, inplace=True)\n",
    "nums_col5=['Overall_Score']\n",
    "# Ensure numeric dtype, then scale\n",
    "reputation[nums_col5] = scaler.fit_transform(\n",
    "    reputation[nums_col5].apply(pd.to_numeric, errors='coerce')\n",
    ")\n",
    "print(reputation.head())\n",
    "print(reputation.columns.tolist())\n",
    "\n",
    "\n"
   ]
  },
  {
   "cell_type": "code",
   "execution_count": 141,
   "id": "53de89cf",
   "metadata": {},
   "outputs": [
    {
     "name": "stderr",
     "output_type": "stream",
     "text": [
      "100%|██████████| 25/25 [00:00<00:00, 1309.88it/s]00:00, 54.39it/s, Describe variable: overall_score]               \n",
      "Summarize dataset: 100%|██████████| 396/396 [00:30<00:00, 12.99it/s, Completed]                                                             \n",
      "Generate report structure: 100%|██████████| 1/1 [00:06<00:00,  6.27s/it]\n",
      "Render HTML: 100%|██████████| 1/1 [00:00<00:00,  1.52it/s]\n",
      "Export report to file: 100%|██████████| 1/1 [00:00<00:00, 19.32it/s]\n"
     ]
    }
   ],
   "source": [
    "reputation.columns = reputation.columns.str.strip().str.lower().str.replace(\" \", \"_\")\n",
    "indian_students.columns = indian_students.columns.str.strip().str.lower().str.replace(\" \", \"_\")\n",
    "df = tuition.merge(cost_living, on=\"country\", how=\"left\") \\\n",
    "            .merge(indian_students, on=\"country\", how=\"left\") \\\n",
    "            .merge(reputation, left_on=\"university\", right_on=\"institution_name\", how=\"left\")\n",
    "# Example: Drop rows where 'rank' is NaN (missing)\n",
    "df_cleaned = df.dropna(subset=['rank_2025'])\n",
    "df_cleaned = df_cleaned.drop(df_cleaned.loc[df_cleaned['country'] == 'UAE'].index)\n",
    "df_cleaned = df_cleaned.drop(df_cleaned.loc[df_cleaned['country'] == 'South Korea'].index)\n",
    "df_cleaned=df_cleaned.drop(columns=['institution_name','location'])\n",
    "fpath='/home/adityapandey/Downloads/project-sem5/Data Sets/'\n",
    "df_cleaned.to_csv(fpath+\"merged_indian_students_abroad.csv\", index=False)\n",
    "\n",
    "from ydata_profiling import ProfileReport\n",
    "\n",
    "df = pd.read_csv(fpath+\"merged_indian_students_abroad.csv\")\n",
    "profile = ProfileReport(df, title=\"final report1\", explorative=True)\n",
    "profile.to_file(\"final report1.html\")"
   ]
  }
 ],
 "metadata": {
  "kernelspec": {
   "display_name": ".venv",
   "language": "python",
   "name": "python3"
  },
  "language_info": {
   "codemirror_mode": {
    "name": "ipython",
    "version": 3
   },
   "file_extension": ".py",
   "mimetype": "text/x-python",
   "name": "python",
   "nbconvert_exporter": "python",
   "pygments_lexer": "ipython3",
   "version": "3.13.7"
  }
 },
 "nbformat": 4,
 "nbformat_minor": 5
}
