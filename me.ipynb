{
 "cells": [
  {
   "cell_type": "code",
   "execution_count": 10,
   "id": "96b9f739",
   "metadata": {},
   "outputs": [],
   "source": [
    "import pandas as pd\n",
    "import numpy as np\n",
    "import networkx as nx\n",
    "import plotly.express as px\n",
    "from sklearn.preprocessing import OrdinalEncoder\n",
    "from sklearn.preprocessing import MinMaxScaler\n",
    "\n",
    "def data_report(file_name):\n",
    "    fpath='/home/adityapandey/Downloads/project-sem5/Data Sets/'\n",
    "    from ydata_profiling import ProfileReport\n",
    "    df = pd.read_csv(fpath+file_name)\n",
    "    profile = ProfileReport(df, title=\"final report1\", explorative=True)\n",
    "    profile.to_file(\"final report1.html\")\n",
    "    \n"
   ]
  },
  {
   "cell_type": "code",
   "execution_count": 11,
   "id": "779c57f0",
   "metadata": {},
   "outputs": [
    {
     "name": "stdout",
     "output_type": "stream",
     "text": [
      "      Country  No of Indian Students  Percentage  Unnamed: 3\n",
      "0     Armenia                    900    0.201434         NaN\n",
      "1   Australia                  66886   14.970109   52.105095\n",
      "2     Austria                    300    0.067145         NaN\n",
      "3  Azerbaijan                     11    0.002462         NaN\n",
      "4     Bahrain                  27000    6.043013   76.500961\n"
     ]
    }
   ],
   "source": [
    "\n",
    "\n",
    "def load_data():\n",
    "    fpath='/home/adityapandey/Downloads/project-sem5/Data Sets/'\n",
    "    indian_students = pd.read_csv(fpath+\"IndianStudentsAbroad.csv\")\n",
    "    cost_living = pd.read_csv(fpath+\"Cost_of_Living_Index_by_Country_2024.csv\")\n",
    "    tuition = pd.read_csv(fpath+\"International_Education_Costs.csv\")\n",
    "    reputation = pd.read_csv(fpath+\"QS World University Rankings 2025 (Top global universities).csv\",encoding='latin1')\n",
    "    return indian_students, cost_living, tuition, reputation\n",
    "\n",
    "indian_students, cost_living, tuition, reputation = load_data()\n",
    "indian_students.drop(columns=['index'], inplace=True)\n",
    "print(indian_students.head())\n",
    "\n"
   ]
  },
  {
   "cell_type": "code",
   "execution_count": null,
   "id": "0824683c",
   "metadata": {},
   "outputs": [
    {
     "name": "stdout",
     "output_type": "stream",
     "text": [
      "                        Country  No of Indian Students  Percentage  Unnamed: 3\n",
      "0                       Armenia                    900    0.201434         NaN\n",
      "1                     Australia                  66886   14.970109   52.105095\n",
      "2                       Austria                    300    0.067145         NaN\n",
      "3                    Azerbaijan                     11    0.002462         NaN\n",
      "4                       Bahrain                  27000    6.043013   76.500961\n",
      "..                          ...                    ...         ...         ...\n",
      "70               United Kingdom                  16715    3.741073         NaN\n",
      "71                      Ukraine                   7963    1.782241         NaN\n",
      "72  United Arab Emirates(Dubai)                   5500    1.230984         NaN\n",
      "73                United States                 165918   37.134985         NaN\n",
      "74                   Uzbekistan                     50    0.011191         NaN\n",
      "\n",
      "[75 rows x 4 columns]\n"
     ]
    }
   ],
   "source": [
    "indian_students.loc[indian_students['Country']=='US(2015-16)','Country']='United States'\n",
    "indian_students.loc[indian_students['Country']=='UK(2015-16)','Country']='United Kingdom'\n",
    "print(indian_students)"
   ]
  },
  {
   "cell_type": "code",
   "execution_count": 13,
   "id": "53989c56",
   "metadata": {},
   "outputs": [
    {
     "name": "stdout",
     "output_type": "stream",
     "text": [
      "   country         city                            university  \\\n",
      "0  Algeria      Algiers  University of Science and Technology   \n",
      "1  Algeria         Oran                    University of Oran   \n",
      "2  Algeria  Constantine             University of Constantine   \n",
      "3  Algeria       Annaba              Badji Mokhtar University   \n",
      "4  Algeria      Tlemcen                 University of Tlemcen   \n",
      "\n",
      "                program     level  duration_years  tuition_usd  \\\n",
      "0      Computer Science  Bachelor             3.0         1200   \n",
      "1  Computer Engineering    Master             2.0         1100   \n",
      "2        Data Analytics       PhD             4.0         1300   \n",
      "3  Computer Engineering    Master             2.0         1000   \n",
      "4   Information Systems  Bachelor             3.0          900   \n",
      "\n",
      "   living_cost_index  rent_usd  visa_fee_usd  insurance_usd  exchange_rate  \n",
      "0               38.5       250            80            200          137.5  \n",
      "1               36.4       220            80            200          137.5  \n",
      "2               35.8       200            80            200          137.5  \n",
      "3               34.5       180            80            200          137.5  \n",
      "4               33.2       160            80            200          137.5  \n"
     ]
    },
    {
     "data": {
      "text/plain": [
       "\"nums_col2=['exchange_rate','living_cost_index','tuition_usd','duration_years','rent_usd','visa_fee_usd','insurance_usd','total_cost']  \\ntuition[nums_col2]=scaler.fit_transform(tuition[nums_col2])\""
      ]
     },
     "execution_count": 13,
     "metadata": {},
     "output_type": "execute_result"
    }
   ],
   "source": [
    "tuition.columns = tuition.columns.str.strip().str.lower().str.replace(\" \", \"_\")\n",
    "tuition.loc[tuition['country']=='USA','country']='United States'\n",
    "tuition.loc[tuition['country']=='UK','country']='United Kingdom'\n",
    "print(tuition.head())\n",
    "tuition[\"total_cost\"] = (tuition[\"tuition_usd\"] * tuition[\"duration_years\"]) + \\\n",
    "                   (tuition[\"rent_usd\"] *tuition[\"duration_years\"]) + \\\n",
    "                tuition[\"visa_fee_usd\"] +tuition[\"insurance_usd\"]\n",
    "\"\"\"nums_col2=['exchange_rate','living_cost_index','tuition_usd','duration_years','rent_usd','visa_fee_usd','insurance_usd','total_cost']  \n",
    "tuition[nums_col2]=scaler.fit_transform(tuition[nums_col2])\"\"\" \n",
    "\n"
   ]
  },
  {
   "cell_type": "code",
   "execution_count": null,
   "id": "2f2fb0d1",
   "metadata": {},
   "outputs": [
    {
     "name": "stdout",
     "output_type": "stream",
     "text": [
      "   rank      country  cost_of_living_index  rent_index  \\\n",
      "0     1  Switzerland                 101.1        46.5   \n",
      "1     2      Bahamas                  85.0        36.7   \n",
      "2     3      Iceland                  83.0        39.2   \n",
      "3     4    Singapore                  76.7        67.2   \n",
      "4     5     Barbados                  76.6        19.0   \n",
      "\n",
      "   cost_of_living_plus_rent_index  groceries_index  restaurant_price_index  \\\n",
      "0                            74.9            109.1                    97.0   \n",
      "1                            61.8             81.6                    83.3   \n",
      "2                            62.0             88.4                    86.8   \n",
      "3                            72.1             74.6                    50.4   \n",
      "4                            48.9             80.8                    69.4   \n",
      "\n",
      "   local_purchasing_power_index  \n",
      "0                         158.7  \n",
      "1                          54.6  \n",
      "2                         120.3  \n",
      "3                         111.1  \n",
      "4                          43.5  \n"
     ]
    }
   ],
   "source": [
    "cost_living.columns = cost_living.columns.str.strip().str.lower().str.replace(\" \", \"_\")\n",
    "print(cost_living.head())\n"
   ]
  },
  {
   "cell_type": "code",
   "execution_count": null,
   "id": "5d9bd878",
   "metadata": {},
   "outputs": [
    {
     "name": "stdout",
     "output_type": "stream",
     "text": [
      "  RANK_2025 RANK_2024                              Institution_Name  \\\n",
      "0         1         1  Massachusetts Institute of Technology (MIT)    \n",
      "1         2         6                       Imperial College London   \n",
      "2         3         3                          University of Oxford   \n",
      "3         4         4                            Harvard University   \n",
      "4         5         2                       University of Cambridge   \n",
      "\n",
      "         Location    Region SIZE FOCUS RES. STATUS  Academic_Reputation_Score  \\\n",
      "0   United States  Americas    M    CO   VH      B                      100.0   \n",
      "1  United Kingdom    Europe    L    FC   VH      A                       98.5   \n",
      "2  United Kingdom    Europe    L    FC   VH      A                      100.0   \n",
      "3   United States  Americas    L    FC   VH      B                      100.0   \n",
      "4  United Kingdom    Europe    L    FC   VH      A                      100.0   \n",
      "\n",
      "   ... International_Faculty_Rank  International_Students_Score  \\\n",
      "0  ...                        100                          86.8   \n",
      "1  ...                         66                          99.6   \n",
      "2  ...                        120                          97.7   \n",
      "3  ...                        269                          69.0   \n",
      "4  ...                         73                          94.8   \n",
      "\n",
      "  International_Students_Rank  International_Research_Network_Score  \\\n",
      "0                         143                                  96.0   \n",
      "1                          44                                  97.4   \n",
      "2                          73                                 100.0   \n",
      "3                         215                                  99.6   \n",
      "4                          98                                  99.3   \n",
      "\n",
      "  International_Research_Network_Rank  Employment_Outcomes_Score  \\\n",
      "0                                  58                      100.0   \n",
      "1                                  34                       93.4   \n",
      "2                                   1                      100.0   \n",
      "3                                   5                      100.0   \n",
      "4                                  10                      100.0   \n",
      "\n",
      "  Employment_Outcomes_Rank  Sustainability_Score Sustainability_Rank  \\\n",
      "0                        8                  99.0                 15=   \n",
      "1                       61                  99.7                   6   \n",
      "2                        3                  85.0                 126   \n",
      "3                        1                  84.4                 130   \n",
      "4                        5                  84.8                127=   \n",
      "\n",
      "   Overall_Score  \n",
      "0            100  \n",
      "1           98.5  \n",
      "2           96.9  \n",
      "3           96.8  \n",
      "4           96.7  \n",
      "\n",
      "[5 rows x 28 columns]\n",
      "['RANK_2025', 'RANK_2024', 'Institution_Name', 'Location', 'Region', 'SIZE', 'FOCUS', 'RES.', 'STATUS', 'Academic_Reputation_Score', 'Academic_Reputation_Rank', 'Employer_Reputation_Score', 'Employer_Reputation_Rank', 'Faculty_Student_Score', 'Faculty_Student_Rank', 'Citations_per_Faculty_Score', 'Citations_per_Faculty_Rank', 'International_Faculty_Score', 'International_Faculty_Rank', 'International_Students_Score', 'International_Students_Rank', 'International_Research_Network_Score', 'International_Research_Network_Rank', 'Employment_Outcomes_Score', 'Employment_Outcomes_Rank', 'Sustainability_Score', 'Sustainability_Rank', 'Overall_Score']\n"
     ]
    }
   ],
   "source": [
    "\n",
    "reputation.columns = reputation.columns.str.strip()\n",
    "print(reputation.head())\n",
    "print(reputation.columns.tolist())\n",
    "\n",
    "\n"
   ]
  },
  {
   "cell_type": "code",
   "execution_count": null,
   "id": "53de89cf",
   "metadata": {},
   "outputs": [
    {
     "name": "stdout",
     "output_type": "stream",
     "text": [
      "      country        city                university                  program  \\\n",
      "16  Australia  Gold Coast       Griffith University   Information Technology   \n",
      "17  Australia      Hobart    University of Tasmania             Data Science   \n",
      "19  Australia  Wollongong  University of Wollongong  Artificial Intelligence   \n",
      "21  Australia  Townsville     James Cook University           Data Analytics   \n",
      "39  Australia   Melbourne         Monash University         Computer Science   \n",
      "\n",
      "       level  duration_years  tuition_usd  living_cost_index  rent_usd  \\\n",
      "16  Bachelor             3.0        31200               67.5      1100   \n",
      "17    Master             2.0        30800               65.4       950   \n",
      "19    Master             2.0        32900               67.2      1050   \n",
      "21    Master             2.0        31200               65.8       950   \n",
      "39  Bachelor             3.0        39800               72.8      1700   \n",
      "\n",
      "    visa_fee_usd  ...  international_faculty_rank  \\\n",
      "16           450  ...                          90   \n",
      "17           450  ...                         240   \n",
      "19           450  ...                         178   \n",
      "21           450  ...                         434   \n",
      "39           450  ...                          59   \n",
      "\n",
      "    international_students_score  international_students_rank  \\\n",
      "16                          38.5                          363   \n",
      "17                          89.7                          123   \n",
      "19                          56.3                          265   \n",
      "21                          16.0                          607   \n",
      "39                         100.0                           24   \n",
      "\n",
      "    international_research_network_score  international_research_network_rank  \\\n",
      "16                                  92.1                                  135   \n",
      "17                                  80.0                                  323   \n",
      "19                                  89.0                                  185   \n",
      "21                                  76.0                                  389   \n",
      "39                                  94.8                                   81   \n",
      "\n",
      "    employment_outcomes_score  employment_outcomes_rank  sustainability_score  \\\n",
      "16                       17.9                       602                  96.4   \n",
      "17                       15.9                       636                  85.6   \n",
      "19                       18.3                       596                  93.9   \n",
      "21                        6.7                      701+                  88.9   \n",
      "39                       79.4                       126                  98.2   \n",
      "\n",
      "    sustainability_rank  overall_score  \n",
      "16                   40           40.1  \n",
      "17                  123             37  \n",
      "19                  62=           50.3  \n",
      "21                 103=           26.7  \n",
      "39                   23           81.2  \n",
      "\n",
      "[5 rows x 49 columns]\n"
     ]
    }
   ],
   "source": [
    "reputation.columns = reputation.columns.str.strip().str.lower().str.replace(\" \", \"_\")\n",
    "indian_students.columns = indian_students.columns.str.strip().str.lower().str.replace(\" \", \"_\")\n",
    "df = tuition.merge(cost_living, on=\"country\", how=\"left\") \\\n",
    "            .merge(indian_students, on=\"country\", how=\"left\") \\\n",
    "            .merge(reputation, left_on=\"university\", right_on=\"institution_name\", how=\"left\")\n",
    "# Example: Drop rows where 'rank' is NaN (missing)\n",
    "df_cleaned = df.dropna(subset=['rank_2025'])\n",
    "df_cleaned = df_cleaned.drop(df_cleaned.loc[df_cleaned['country'] == 'UAE'].index)\n",
    "df_cleaned = df_cleaned.drop(df_cleaned.loc[df_cleaned['country'] == 'South Korea'].index)\n",
    "df_cleaned=df_cleaned.drop(columns=['institution_name','location'])\n",
    "print(df_cleaned.head())\n",
    "df_cleaned=df_cleaned.drop(columns=['unnamed:_3','rank_2024','region','size','focus','res.','status'])\n",
    "fpath='/home/adityapandey/Downloads/project-sem5/Data Sets/'\n",
    "df_cleaned.to_csv(fpath+\"merged_indian_students_abroad.csv\", index=False)\n",
    "\n"
   ]
  }
 ],
 "metadata": {
  "kernelspec": {
   "display_name": ".venv",
   "language": "python",
   "name": "python3"
  },
  "language_info": {
   "codemirror_mode": {
    "name": "ipython",
    "version": 3
   },
   "file_extension": ".py",
   "mimetype": "text/x-python",
   "name": "python",
   "nbconvert_exporter": "python",
   "pygments_lexer": "ipython3",
   "version": "3.13.7"
  }
 },
 "nbformat": 4,
 "nbformat_minor": 5
}
