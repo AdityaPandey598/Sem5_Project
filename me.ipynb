{
 "cells": [
  {
   "cell_type": "code",
   "execution_count": 211,
   "id": "96b9f739",
   "metadata": {},
   "outputs": [],
   "source": [
    "import pandas as pd\n",
    "import numpy as np\n",
    "import networkx as nx\n",
    "import plotly.express as px\n",
    "from sklearn.preprocessing import OrdinalEncoder\n",
    "from sklearn.preprocessing import MinMaxScaler\n",
    "\n"
   ]
  },
  {
   "cell_type": "code",
   "execution_count": 212,
   "id": "779c57f0",
   "metadata": {},
   "outputs": [
    {
     "name": "stdout",
     "output_type": "stream",
     "text": [
      "       Country  No of Indian Students  Percentage  Unnamed: 3\n",
      "0  US(2015-16)                 165918   37.134985         NaN\n",
      "1    Australia                  66886   14.970109   52.105095\n",
      "2       Canada                  50000   11.190764   63.295859\n",
      "3  New Zealand                  32000    7.162089   70.457948\n",
      "4      Bahrain                  27000    6.043013   76.500961\n"
     ]
    }
   ],
   "source": [
    "\n",
    "\n",
    "def load_data():\n",
    "    fpath='/home/adityapandey/Downloads/project-sem5/Data Sets/'\n",
    "    indian_students = pd.read_csv(fpath+\"IndianStudentsAbroad.csv\")\n",
    "    cost_living = pd.read_csv(fpath+\"Cost_of_Living_Index_by_Country_2024.csv\")\n",
    "    tuition = pd.read_csv(fpath+\"International_Education_Costs.csv\")\n",
    "    reputation = pd.read_csv(fpath+\"QS World University Rankings 2025 (Top global universities).csv\",encoding='latin1')\n",
    "    return indian_students, cost_living, tuition, reputation\n",
    "\n",
    "indian_students, cost_living, tuition, reputation = load_data()\n",
    "indian_students.drop(columns=['index'], inplace=True)\n",
    "print(indian_students.head())\n",
    "\n"
   ]
  },
  {
   "cell_type": "code",
   "execution_count": 213,
   "id": "0824683c",
   "metadata": {},
   "outputs": [
    {
     "name": "stdout",
     "output_type": "stream",
     "text": [
      "               Country  No of Indian Students  Percentage  Country_Encoded\n",
      "0          US(2015-16)               1.000000    1.000000         1.000000\n",
      "1            Australia               0.403123    0.403123         0.986486\n",
      "2               Canada               0.301349    0.301349         0.972973\n",
      "3          New Zealand               0.192861    0.192861         0.959459\n",
      "4              Bahrain               0.162726    0.162726         0.945946\n",
      "..                 ...                    ...         ...              ...\n",
      "70  Bosnia Herzegovina               0.000006    0.000006         0.040541\n",
      "71             Lebanon               0.000006    0.000006         0.054054\n",
      "72               Chile               0.000000    0.000000         0.013514\n",
      "73            Mongolia               0.000000    0.000000         0.027027\n",
      "74              Serbia               0.000000    0.000000         0.000000\n",
      "\n",
      "[75 rows x 4 columns]\n"
     ]
    }
   ],
   "source": [
    "order = indian_students.sort_values('No of Indian Students')['Country'].unique().tolist()\n",
    "encoder = OrdinalEncoder(categories=[order])\n",
    "indian_students['Country_Encoded'] = encoder.fit_transform(indian_students[['Country']])\n",
    "\n",
    "num_cols = ['Country_Encoded','No of Indian Students','Percentage','Unnamed: 3']\n",
    "scaler = MinMaxScaler()\n",
    "indian_students[num_cols] = scaler.fit_transform(indian_students[num_cols])\n",
    "indian_students.drop(columns=['Unnamed: 3'], inplace=True)\n",
    "print(indian_students)"
   ]
  },
  {
   "cell_type": "code",
   "execution_count": 214,
   "id": "53989c56",
   "metadata": {},
   "outputs": [
    {
     "name": "stdout",
     "output_type": "stream",
     "text": [
      "     country       city                      university  \\\n",
      "0        USA  Cambridge              Harvard University   \n",
      "1         UK     London         Imperial College London   \n",
      "2     Canada    Toronto           University of Toronto   \n",
      "3  Australia  Melbourne         University of Melbourne   \n",
      "4    Germany     Munich  Technical University of Munich   \n",
      "\n",
      "                  program   level  duration_years  tuition_usd  \\\n",
      "0        Computer Science  Master            0.25     0.893548   \n",
      "1            Data Science  Master            0.00     0.664516   \n",
      "2      Business Analytics  Master            0.25     0.620968   \n",
      "3             Engineering  Master            0.25     0.677419   \n",
      "4  Mechanical Engineering  Master            0.25     0.008065   \n",
      "\n",
      "   living_cost_index  rent_usd  visa_fee_usd  insurance_usd  exchange_rate  \\\n",
      "0           0.588795  0.872340      0.266667       1.000000       0.000020   \n",
      "1           0.507400  0.702128      0.988889       0.461538       0.000015   \n",
      "2           0.472516  0.617021      0.433333       0.538462       0.000028   \n",
      "3           0.458774  0.531915      0.911111       0.346154       0.000033   \n",
      "4           0.451374  0.404255      0.077778       0.269231       0.000018   \n",
      "\n",
      "   total_cost  \n",
      "0    0.398153  \n",
      "1    0.148985  \n",
      "2    0.276187  \n",
      "3    0.298726  \n",
      "4    0.010077  \n"
     ]
    }
   ],
   "source": [
    "tuition.columns = tuition.columns.str.strip().str.lower().str.replace(\" \", \"_\")\n",
    "\n",
    "tuition[\"total_cost\"] = (tuition[\"tuition_usd\"] * tuition[\"duration_years\"]) + \\\n",
    "                   (tuition[\"rent_usd\"] *tuition[\"duration_years\"]) + \\\n",
    "                tuition[\"visa_fee_usd\"] +tuition[\"insurance_usd\"]\n",
    "nums_col2=['exchange_rate','living_cost_index','tuition_usd','duration_years','rent_usd','visa_fee_usd','insurance_usd','total_cost']  \n",
    "tuition[nums_col2]=scaler.fit_transform(tuition[nums_col2]) \n",
    "print(tuition.head())\n"
   ]
  },
  {
   "cell_type": "code",
   "execution_count": 215,
   "id": "2f2fb0d1",
   "metadata": {},
   "outputs": [
    {
     "name": "stdout",
     "output_type": "stream",
     "text": [
      "   rank      country  cost_of_living_index  rent_index  \\\n",
      "0     1  Switzerland              1.000000    0.680556   \n",
      "1     2      Bahamas              0.804374    0.529321   \n",
      "2     3      Iceland              0.780073    0.567901   \n",
      "3     4    Singapore              0.703524    1.000000   \n",
      "4     5     Barbados              0.702309    0.256173   \n",
      "\n",
      "   cost_of_living_plus_rent_index  groceries_index  restaurant_price_index  \\\n",
      "0                        1.000000         1.000000                1.000000   \n",
      "1                        0.794671         0.699782                0.837292   \n",
      "2                        0.797806         0.774017                0.878860   \n",
      "3                        0.956113         0.623362                0.446556   \n",
      "4                        0.592476         0.691048                0.672209   \n",
      "\n",
      "   local_purchasing_power_index  \n",
      "0                      0.867925  \n",
      "1                      0.290233  \n",
      "2                      0.654828  \n",
      "3                      0.603774  \n",
      "4                      0.228635  \n"
     ]
    }
   ],
   "source": [
    "cost_living.columns = cost_living.columns.str.strip().str.lower().str.replace(\" \", \"_\")\n",
    "nums_col3=['cost_of_living_index','rent_index','cost_of_living_plus_rent_index','groceries_index','restaurant_price_index','local_purchasing_power_index']\n",
    "cost_living[nums_col3]=scaler.fit_transform(cost_living[nums_col3]) \n",
    "print(cost_living.head())\n"
   ]
  },
  {
   "cell_type": "code",
   "execution_count": 216,
   "id": "5d9bd878",
   "metadata": {},
   "outputs": [
    {
     "name": "stdout",
     "output_type": "stream",
     "text": [
      "  RANK_2025                              Institution_Name        Location  \\\n",
      "0         1  Massachusetts Institute of Technology (MIT)    United States   \n",
      "1         2                       Imperial College London  United Kingdom   \n",
      "2         3                          University of Oxford  United Kingdom   \n",
      "3         4                            Harvard University   United States   \n",
      "4         5                       University of Cambridge  United Kingdom   \n",
      "\n",
      "   Overall_Score  \n",
      "0       1.000000  \n",
      "1       0.981061  \n",
      "2       0.960859  \n",
      "3       0.959596  \n",
      "4       0.958333  \n",
      "['RANK_2025', 'Institution_Name', 'Location', 'Overall_Score']\n"
     ]
    }
   ],
   "source": [
    "\n",
    "reputation.columns = reputation.columns.str.strip()\n",
    "nums_col4=['RANK_2024','Region','SIZE','FOCUS','RES.','STATUS','Academic_Reputation_Score', 'Academic_Reputation_Rank', 'Employer_Reputation_Score', 'Employer_Reputation_Rank', 'Faculty_Student_Score', 'Faculty_Student_Rank', 'Citations_per_Faculty_Score', 'Citations_per_Faculty_Rank', 'International_Faculty_Score', 'International_Faculty_Rank', 'International_Students_Score', 'International_Students_Rank', 'International_Research_Network_Score', 'International_Research_Network_Rank', 'Employment_Outcomes_Score', 'Employment_Outcomes_Rank', 'Sustainability_Score', 'Sustainability_Rank']\n",
    "reputation.drop(columns=nums_col4, inplace=True)\n",
    "nums_col5=['Overall_Score']\n",
    "# Ensure numeric dtype, then scale\n",
    "reputation[nums_col5] = scaler.fit_transform(\n",
    "    reputation[nums_col5].apply(pd.to_numeric, errors='coerce')\n",
    ")\n",
    "print(reputation.head())\n",
    "print(reputation.columns.tolist())\n",
    "\n",
    "\n"
   ]
  },
  {
   "cell_type": "code",
   "execution_count": 217,
   "id": "53de89cf",
   "metadata": {},
   "outputs": [
    {
     "name": "stdout",
     "output_type": "stream",
     "text": [
      "       country       city                      university  \\\n",
      "0          USA  Cambridge              Harvard University   \n",
      "1           UK     London         Imperial College London   \n",
      "2       Canada    Toronto           University of Toronto   \n",
      "4      Germany     Munich  Technical University of Munich   \n",
      "6  Netherlands  Amsterdam         University of Amsterdam   \n",
      "\n",
      "                   program   level  duration_years  tuition_usd  \\\n",
      "0         Computer Science  Master            0.25     0.893548   \n",
      "1             Data Science  Master            0.00     0.664516   \n",
      "2       Business Analytics  Master            0.25     0.620968   \n",
      "4   Mechanical Engineering  Master            0.25     0.008065   \n",
      "6  Artificial Intelligence  Master            0.00     0.254839   \n",
      "\n",
      "   living_cost_index  rent_usd  visa_fee_usd  ...  groceries_index  \\\n",
      "0           0.588795  0.872340      0.266667  ...              NaN   \n",
      "1           0.507400  0.702128      0.988889  ...              NaN   \n",
      "2           0.472516  0.617021      0.433333  ...         0.586245   \n",
      "4           0.451374  0.404255      0.077778  ...         0.472707   \n",
      "6           0.479915  0.574468      0.311111  ...         0.462882   \n",
      "\n",
      "   restaurant_price_index  local_purchasing_power_index  \\\n",
      "0                     NaN                           NaN   \n",
      "1                     NaN                           NaN   \n",
      "2                0.580760                      0.562708   \n",
      "4                0.475059                      0.654273   \n",
      "6                0.574822                      0.680355   \n",
      "\n",
      "   no_of_indian_students  percentage  country_encoded  rank_2025  \\\n",
      "0                    NaN         NaN              NaN          4   \n",
      "1                    NaN         NaN              NaN          2   \n",
      "2               0.301349    0.301349         0.972973         25   \n",
      "4               0.010330    0.010330         0.743243         28   \n",
      "6                    NaN         NaN              NaN         55   \n",
      "\n",
      "                 institution_name        location  overall_score  \n",
      "0              Harvard University   United States       0.959596  \n",
      "1         Imperial College London  United Kingdom       0.981061  \n",
      "2           University of Toronto          Canada       0.799242  \n",
      "4  Technical University of Munich         Germany       0.787879  \n",
      "6         University of Amsterdam     Netherlands       0.667929  \n",
      "\n",
      "[5 rows x 27 columns]\n"
     ]
    }
   ],
   "source": [
    "reputation.columns = reputation.columns.str.strip().str.lower().str.replace(\" \", \"_\")\n",
    "indian_students.columns = indian_students.columns.str.strip().str.lower().str.replace(\" \", \"_\")\n",
    "df = tuition.merge(cost_living, on=\"country\", how=\"left\") \\\n",
    "            .merge(indian_students, on=\"country\", how=\"left\") \\\n",
    "            .merge(reputation, left_on=\"university\", right_on=\"institution_name\", how=\"left\")\n",
    "# Example: Drop rows where 'rank' is NaN (missing)\n",
    "df_cleaned = df.dropna(subset=['rank_2025'])\n",
    "\n",
    "print(df_cleaned.head())\n",
    "df_cleaned.to_csv('/home/adityapandey/Downloads/project-sem5/Data Sets/merged_indian_students_abroad.csv', index=False)"
   ]
  }
 ],
 "metadata": {
  "kernelspec": {
   "display_name": ".venv",
   "language": "python",
   "name": "python3"
  },
  "language_info": {
   "codemirror_mode": {
    "name": "ipython",
    "version": 3
   },
   "file_extension": ".py",
   "mimetype": "text/x-python",
   "name": "python",
   "nbconvert_exporter": "python",
   "pygments_lexer": "ipython3",
   "version": "3.13.7"
  }
 },
 "nbformat": 4,
 "nbformat_minor": 5
}
