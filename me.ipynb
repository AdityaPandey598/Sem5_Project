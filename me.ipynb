{
 "cells": [
  {
   "cell_type": "code",
   "execution_count": 11,
   "id": "96b9f739",
   "metadata": {},
   "outputs": [],
   "source": [
    "import pandas as pd\n",
    "import numpy as np\n",
    "import networkx as nx\n",
    "import plotly.express as px\n"
   ]
  },
  {
   "cell_type": "code",
   "execution_count": 12,
   "id": "779c57f0",
   "metadata": {},
   "outputs": [
    {
     "name": "stdout",
     "output_type": "stream",
     "text": [
      "    index             Country  No of Indian Students  Percentage  Unnamed: 3\n",
      "0       0         US(2015-16)                 165918   37.134985         NaN\n",
      "1       1           Australia                  66886   14.970109   52.105095\n",
      "2       2              Canada                  50000   11.190764   63.295859\n",
      "3       3         New Zealand                  32000    7.162089   70.457948\n",
      "4       4             Bahrain                  27000    6.043013   76.500961\n",
      "..    ...                 ...                    ...         ...         ...\n",
      "70     70  Bosnia Herzegovina                      2    0.000448         NaN\n",
      "71     71             Lebanon                      2    0.000448         NaN\n",
      "72     72               Chile                      1    0.000224         NaN\n",
      "73     73            Mongolia                      1    0.000224         NaN\n",
      "74     74              Serbia                      1    0.000224         NaN\n",
      "\n",
      "[75 rows x 5 columns]\n"
     ]
    }
   ],
   "source": [
    "\n",
    "\n",
    "def load_data():\n",
    "    fpath='/home/adityapandey/Downloads/project-sem5/Data Sets/'\n",
    "    indian_students = pd.read_csv(fpath+\"IndianStudentsAbroad.csv\")\n",
    "    cost_living = pd.read_csv(fpath+\"Cost_of_Living_Index_by_Country_2024.csv\")\n",
    "    tuition = pd.read_csv(fpath+\"International_Education_Costs.csv\")\n",
    "    reputation = pd.read_csv(fpath+\"top 100 world university 2024 new.csv\")\n",
    "    return indian_students, cost_living, tuition, reputation\n",
    "\n",
    "indian_students, cost_living, tuition, reputation = load_data()\n",
    "\n",
    "print(indian_students)"
   ]
  }
 ],
 "metadata": {
  "kernelspec": {
   "display_name": ".venv",
   "language": "python",
   "name": "python3"
  },
  "language_info": {
   "codemirror_mode": {
    "name": "ipython",
    "version": 3
   },
   "file_extension": ".py",
   "mimetype": "text/x-python",
   "name": "python",
   "nbconvert_exporter": "python",
   "pygments_lexer": "ipython3",
   "version": "3.13.7"
  }
 },
 "nbformat": 4,
 "nbformat_minor": 5
}
